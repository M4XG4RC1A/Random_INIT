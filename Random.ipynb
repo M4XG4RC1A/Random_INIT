{
 "cells": [
  {
   "cell_type": "markdown",
   "id": "775be75b",
   "metadata": {},
   "source": [
    "# Quantum Random\n",
    "For this project we are going to use 4 qubits in super position to transform to clasical bits and then convert the binary to decimal number."
   ]
  },
  {
   "cell_type": "code",
   "execution_count": 72,
   "id": "48a74081",
   "metadata": {},
   "outputs": [],
   "source": [
    "from qiskit import *"
   ]
  },
  {
   "cell_type": "markdown",
   "id": "bd7104ce",
   "metadata": {},
   "source": [
    "## Create Circuit in Super Position"
   ]
  },
  {
   "cell_type": "code",
   "execution_count": 73,
   "id": "0886c9a1",
   "metadata": {},
   "outputs": [
    {
     "data": {
      "text/html": [
       "<pre style=\"word-wrap: normal;white-space: pre;background: #fff0;line-height: 1.1;font-family: &quot;Courier New&quot;,Courier,monospace\">     ┌───┐┌─┐         \n",
       "q_0: ┤ H ├┤M├─────────\n",
       "     ├───┤└╥┘┌─┐      \n",
       "q_1: ┤ H ├─╫─┤M├──────\n",
       "     ├───┤ ║ └╥┘┌─┐   \n",
       "q_2: ┤ H ├─╫──╫─┤M├───\n",
       "     ├───┤ ║  ║ └╥┘┌─┐\n",
       "q_3: ┤ H ├─╫──╫──╫─┤M├\n",
       "     └───┘ ║  ║  ║ └╥┘\n",
       "c: 4/══════╩══╩══╩══╩═\n",
       "           0  1  2  3 </pre>"
      ],
      "text/plain": [
       "     ┌───┐┌─┐         \n",
       "q_0: ┤ H ├┤M├─────────\n",
       "     ├───┤└╥┘┌─┐      \n",
       "q_1: ┤ H ├─╫─┤M├──────\n",
       "     ├───┤ ║ └╥┘┌─┐   \n",
       "q_2: ┤ H ├─╫──╫─┤M├───\n",
       "     ├───┤ ║  ║ └╥┘┌─┐\n",
       "q_3: ┤ H ├─╫──╫──╫─┤M├\n",
       "     └───┘ ║  ║  ║ └╥┘\n",
       "c: 4/══════╩══╩══╩══╩═\n",
       "           0  1  2  3 "
      ]
     },
     "execution_count": 73,
     "metadata": {},
     "output_type": "execute_result"
    }
   ],
   "source": [
    "circuit = QuantumCircuit(4,4)\n",
    "circuit.h(0)\n",
    "circuit.h(1)\n",
    "circuit.h(2)\n",
    "circuit.h(3)\n",
    "circuit.measure([0],[0])\n",
    "circuit.measure([1],[1])\n",
    "circuit.measure([2],[2])\n",
    "circuit.measure([3],[3])\n",
    "circuit.draw()"
   ]
  },
  {
   "cell_type": "markdown",
   "id": "a471e981",
   "metadata": {},
   "source": [
    "## Simulate Qubits"
   ]
  },
  {
   "cell_type": "code",
   "execution_count": 74,
   "id": "b400ae6e",
   "metadata": {},
   "outputs": [],
   "source": [
    "backend = Aer.get_backend('qasm_simulator')\n",
    "res = execute(circuit,backend=backend,shots=1024).result()\n",
    "count = res.get_counts()"
   ]
  },
  {
   "cell_type": "code",
   "execution_count": 75,
   "id": "19d2d612",
   "metadata": {},
   "outputs": [
    {
     "name": "stdout",
     "output_type": "stream",
     "text": [
      "Quantum Bits Result: 1010\n"
     ]
    }
   ],
   "source": [
    "print(\"Quantum Bits Result: {}\".format(str(count.most_frequent())))"
   ]
  },
  {
   "cell_type": "code",
   "execution_count": 76,
   "id": "81d4955d",
   "metadata": {},
   "outputs": [
    {
     "name": "stdout",
     "output_type": "stream",
     "text": [
      "Ramdom result: 10\n"
     ]
    }
   ],
   "source": [
    "Decimal = 2**3*int(count.most_frequent()[0])+2**2*int(count.most_frequent()[1])+2**1*int(count.most_frequent()[2])+2**0*int(count.most_frequent()[3])\n",
    "print(\"Ramdom result: {}\".format(Decimal))"
   ]
  }
 ],
 "metadata": {
  "kernelspec": {
   "display_name": "Python 3",
   "language": "python",
   "name": "python3"
  },
  "language_info": {
   "codemirror_mode": {
    "name": "ipython",
    "version": 3
   },
   "file_extension": ".py",
   "mimetype": "text/x-python",
   "name": "python",
   "nbconvert_exporter": "python",
   "pygments_lexer": "ipython3",
   "version": "3.8.8"
  }
 },
 "nbformat": 4,
 "nbformat_minor": 5
}
